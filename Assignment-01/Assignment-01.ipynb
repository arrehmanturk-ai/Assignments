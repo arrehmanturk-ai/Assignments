{
 "cells": [
  {
   "cell_type": "markdown",
   "id": "265c0a88-1566-4b5f-819f-844a604242e9",
   "metadata": {},
   "source": [
    "# Part -1 Python Basics (Variables)"
   ]
  },
  {
   "cell_type": "markdown",
   "id": "c65c2d26-c0e6-48ee-afc4-3288c5593394",
   "metadata": {},
   "source": [
    "### 1.Print Your Name with your Father name and Date of birth using suitable escape sequence charactor"
   ]
  },
  {
   "cell_type": "code",
   "execution_count": 1,
   "id": "1b5298a4-364e-4a77-aa32-fdb6841d9730",
   "metadata": {},
   "outputs": [
    {
     "name": "stdout",
     "output_type": "stream",
     "text": [
      " My name is Abdur Rehman \n",
      " My Father name is Tufail Ahmed \n",
      " My Date Of Birth is 05-02-2007\n"
     ]
    }
   ],
   "source": [
    "my_name = \"Abdur Rehman\"\n",
    "father_name = \"Tufail Ahmed\"\n",
    "DOB = \"05-02-2007\"\n",
    "print(f\" My name is {my_name} \\n My Father name is {father_name} \\n My Date Of Birth is {DOB}\")"
   ]
  },
  {
   "cell_type": "markdown",
   "id": "ce5520e6-208f-4f86-addf-19873c9f74c7",
   "metadata": {},
   "source": [
    "### 2.Write your small bio using variables and print it using print function"
   ]
  },
  {
   "cell_type": "code",
   "execution_count": 2,
   "id": "d7a2f527-797f-4b5f-bd56-48690f58d95f",
   "metadata": {},
   "outputs": [
    {
     "name": "stdout",
     "output_type": "stream",
     "text": [
      " My name is Abdur Rehman. My Father name is Tufail Ahmed. My Date Of Birth is 05-02-2007\n"
     ]
    }
   ],
   "source": [
    "my_name = \"Abdur Rehman\"\n",
    "father_name = \"Tufail Ahmed\"\n",
    "DOB = \"05-02-2007\"\n",
    "bio = (f\" My name is {my_name}. My Father name is {father_name}. My Date Of Birth is {DOB}\")\n",
    "print(bio)"
   ]
  },
  {
   "cell_type": "markdown",
   "id": "232be7b1-a801-412e-8b2b-fc3367a809d9",
   "metadata": {},
   "source": [
    "### 3.Write a program in which use all the operators we can use in Python"
   ]
  },
  {
   "cell_type": "code",
   "execution_count": 3,
   "id": "7bdb4e5d-ce99-4d2a-96c3-e185b9bfadc5",
   "metadata": {},
   "outputs": [
    {
     "name": "stdout",
     "output_type": "stream",
     "text": [
      "8 -4 48 1.6 3 3 16384\n"
     ]
    }
   ],
   "source": [
    "x = 3 + 5\n",
    "y = 5 - 9\n",
    "z = 6 * 8\n",
    "l = 8 / 5\n",
    "m = 3 % 9\n",
    "n = 7 // 2\n",
    "k = 4**7\n",
    "print(x,y,z,l,m,n,k)"
   ]
  },
  {
   "cell_type": "markdown",
   "id": "0bb43248-aa7e-4cf3-84f6-69d6eeeeffa2",
   "metadata": {},
   "source": [
    "### 4.Completes the following steps of small task:\n",
    "- Mention Marks of English , Islamiat and Maths out of 100 in 3 different variables\n",
    "- Mention Variable of Total Marks and assign 300 to it\n",
    "- Calculate Percentage"
   ]
  },
  {
   "cell_type": "code",
   "execution_count": 4,
   "id": "c2de6d59-45d5-41e1-acf3-176ef0eb6a4d",
   "metadata": {},
   "outputs": [
    {
     "name": "stdout",
     "output_type": "stream",
     "text": [
      "72.33333333333334\n"
     ]
    }
   ],
   "source": [
    "English = 70\n",
    "Islamiat = 82\n",
    "Maths = 65\n",
    "total_marks = 300\n",
    "obtain_marks = English + Islamiat + Maths\n",
    "Percentage = (obtain_marks/total_marks)*100\n",
    "print(Percentage)\n"
   ]
  }
 ],
 "metadata": {
  "kernelspec": {
   "display_name": "Python [conda env:base] *",
   "language": "python",
   "name": "conda-base-py"
  },
  "language_info": {
   "codemirror_mode": {
    "name": "ipython",
    "version": 3
   },
   "file_extension": ".py",
   "mimetype": "text/x-python",
   "name": "python",
   "nbconvert_exporter": "python",
   "pygments_lexer": "ipython3",
   "version": "3.12.7"
  }
 },
 "nbformat": 4,
 "nbformat_minor": 5
}
