{
 "cells": [
  {
   "attachments": {
    "af81b7d7-2127-4260-9793-7fb632c4db5b.png": {
     "image/png": "[encoded data removed]"
    }
   },
   "cell_type": "markdown",
   "id": "d577435f-ee8d-4742-839a-577401498bc4",
   "metadata": {},
   "source": [
    "![image.png](attachment:af81b7d7-2127-4260-9793-7fb632c4db5b.png)"
   ]
  },
  {
   "cell_type": "code",
   "execution_count": 1,
   "id": "167f661f-8b2b-425a-ae81-168d39cbe47a",
   "metadata": {},
   "outputs": [],
   "source": [
    "class Circle:\n",
    "    def __init__(self, radius):\n",
    "        self.radius = radius\n",
    "        \n",
    "    def area(self):\n",
    "        return 3.142 * (self.radius**2)\n",
    "    \n",
    "    def perimeter(self):\n",
    "        return 2 * 3.142 * self.radius"
   ]
  },
  {
   "cell_type": "code",
   "execution_count": 2,
   "id": "f168ac8f-5e50-44ae-b1a4-909d3c5b08d5",
   "metadata": {},
   "outputs": [],
   "source": [
    "C = Circle(5)"
   ]
  },
  {
   "cell_type": "code",
   "execution_count": 3,
   "id": "d6a2d4a5-7e9d-43f7-a788-404d55588bb6",
   "metadata": {},
   "outputs": [
    {
     "data": {
      "text/plain": [
       "31.419999999999998"
      ]
     },
     "execution_count": 3,
     "metadata": {},
     "output_type": "execute_result"
    }
   ],
   "source": [
    "C.area()\n",
    "C.perimeter()"
   ]
  },
  {
   "attachments": {
    "9f061153-a7ba-44e3-8d50-6dc166fcd8de.png": {
     "image/png": "[encoded data removed]"
    }
   },
   "cell_type": "markdown",
   "id": "0d6401b6-2209-4bbe-8d72-b04ea07d2b69",
   "metadata": {},
   "source": [
    "![image.png](attachment:9f061153-a7ba-44e3-8d50-6dc166fcd8de.png)"
   ]
  },
  {
   "cell_type": "code",
   "execution_count": 4,
   "id": "4a3e1bb6-1762-4968-b075-62b51b7b1d21",
   "metadata": {},
   "outputs": [],
   "source": [
    "class person:\n",
    "    def __init__(self, name, country, dob):\n",
    "        self.name = name\n",
    "        self.country = country\n",
    "        self.dob = dob\n",
    "\n",
    "    def age(self):\n",
    "        return f\"I'm 18 y/o.\"\n",
    "        "
   ]
  },
  {
   "cell_type": "code",
   "execution_count": 7,
   "id": "5ad573d0-37f8-4fa8-9efb-b81e90319d70",
   "metadata": {},
   "outputs": [],
   "source": [
    "p = person(\"Abdurrehman\", \"Pakistan\", \"05/02/2007\")"
   ]
  },
  {
   "cell_type": "code",
   "execution_count": 12,
   "id": "4817d7a8-a4bb-4e60-83b1-14647a2124ae",
   "metadata": {},
   "outputs": [
    {
     "name": "stdout",
     "output_type": "stream",
     "text": [
      "Name : Abdurrehman\n",
      "Country : Pakistan\n",
      "DoB : 05/02/2007\n"
     ]
    }
   ],
   "source": [
    "print(\"Name :\", p.name)\n",
    "print(\"Country :\", p.country)\n",
    "print(\"DoB :\", p.dob)"
   ]
  },
  {
   "cell_type": "code",
   "execution_count": 13,
   "id": "7334eb72-d09a-45a7-8b73-a92f60e68c03",
   "metadata": {},
   "outputs": [
    {
     "data": {
      "text/plain": [
       "\"I'm 18 y/o.\""
      ]
     },
     "execution_count": 13,
     "metadata": {},
     "output_type": "execute_result"
    }
   ],
   "source": [
    "p.age()"
   ]
  },
  {
   "attachments": {
    "8c63d346-b90f-40ca-9724-6b7c6c22aa7a.png": {
     "image/png": "[encoded data removed]"
    }
   },
   "cell_type": "markdown",
   "id": "1b79e32c-eb05-4f17-b1a0-971ec3e283e7",
   "metadata": {},
   "source": [
    "![image.png](attachment:8c63d346-b90f-40ca-9724-6b7c6c22aa7a.png)"
   ]
  },
  {
   "cell_type": "code",
   "execution_count": 22,
   "id": "39f3fd87-e4a8-411f-83d1-89ecec004263",
   "metadata": {},
   "outputs": [],
   "source": [
    "class calculator:\n",
    "    def __init__(self):\n",
    "        self.result = 0\n",
    "\n",
    "    def add(self, num1, num2):\n",
    "        return num1 + num2\n",
    "        return result\n",
    "\n",
    "    def sub(self, num1, num2):\n",
    "        return num1 - num2\n",
    "        return result\n",
    "\n",
    "    def multiply(self, num1, num2):\n",
    "        return num1 * num2\n",
    "        return result\n",
    "\n",
    "    def divide(self, num1, num2):\n",
    "        return num1 / num2\n",
    "        return result\n",
    "\n",
    "    def power(self, num1, num2):\n",
    "        return num1 ** num2\n",
    "        return result"
   ]
  },
  {
   "cell_type": "code",
   "execution_count": 23,
   "id": "271f444f-ffe0-489e-81a3-7477ba98d449",
   "metadata": {},
   "outputs": [],
   "source": [
    "c = calculator()"
   ]
  },
  {
   "cell_type": "code",
   "execution_count": 25,
   "id": "a4e7eaa6-51f6-4620-ac8e-9c7f2e5d3a10",
   "metadata": {},
   "outputs": [
    {
     "name": "stdout",
     "output_type": "stream",
     "text": [
      "13\n",
      "2\n",
      "40\n",
      "6.25\n",
      "8\n"
     ]
    }
   ],
   "source": [
    "print(c.add(5, 8))\n",
    "print(c.sub(10, 8))\n",
    "print(c.multiply(5, 8))\n",
    "print(c.divide(50, 8))\n",
    "print(c.power(2, 3))"
   ]
  }
 ],
 "metadata": {
  "kernelspec": {
   "display_name": "Python [conda env:base] *",
   "language": "python",
   "name": "conda-base-py"
  },
  "language_info": {
   "codemirror_mode": {
    "name": "ipython",
    "version": 3
   },
   "file_extension": ".py",
   "mimetype": "text/x-python",
   "name": "python",
   "nbconvert_exporter": "python",
   "pygments_lexer": "ipython3",
   "version": "3.12.7"
  }
 },
 "nbformat": 4,
 "nbformat_minor": 5
}
